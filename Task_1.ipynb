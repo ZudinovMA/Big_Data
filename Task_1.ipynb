{
 "cells": [
  {
   "cell_type": "code",
   "execution_count": 4,
   "outputs": [],
   "source": [
    "import numpy as np\n",
    "import pandas as pd\n",
    "import matplotlib as mpl\n",
    "import matplotlib.pyplot as plt\n",
    "import plotly.express as px\n",
    "import plotly.graph_objs as go"
   ],
   "metadata": {
    "collapsed": false,
    "ExecuteTime": {
     "end_time": "2023-09-26T12:51:48.767535Z",
     "start_time": "2023-09-26T12:51:48.587905Z"
    }
   }
  },
  {
   "cell_type": "code",
   "execution_count": null,
   "outputs": [],
   "source": [
    "data = pd.read_csv('Football Stadiums.csv', encoding_errors='ignore')\n",
    "\n",
    "data"
   ],
   "metadata": {
    "collapsed": false
   }
  },
  {
   "cell_type": "code",
   "execution_count": null,
   "outputs": [],
   "source": [
    "data.info()"
   ],
   "metadata": {
    "collapsed": false
   }
  },
  {
   "cell_type": "code",
   "execution_count": null,
   "outputs": [],
   "source": [
    "data.head()"
   ],
   "metadata": {
    "collapsed": false
   }
  },
  {
   "cell_type": "code",
   "execution_count": null,
   "outputs": [],
   "source": [
    "fig = px.bar(data, x='Confederation', y='Capacity', color='Capacity')\n",
    "fig.update_traces(marker_line_color='black', marker_line_width=0.2)\n",
    "fig.update_layout(title='Вместительность стадионов футбольных ассоциаций', title_font_size=20, title_x=0.5)\n",
    "fig.show()"
   ],
   "metadata": {
    "collapsed": false
   }
  },
  {
   "cell_type": "code",
   "execution_count": null,
   "outputs": [],
   "source": [
    "fig.update_xaxes(title_text='Футбольная ассоциация', title_font_size=16)\n",
    "fig.update_yaxes(title_text='Вместительность', title_font_size=16)\n",
    "fig.update_xaxes(tickangle=315)\n",
    "fig.update_xaxes(tickfont_size=14)\n",
    "fig.update_layout(width=None, height=700)\n",
    "fig.update_xaxes(gridwidth=2, gridcolor='ivory')\n",
    "fig.update_layout(margin=dict(l=0, r=0, b=0, t=40))"
   ],
   "metadata": {
    "collapsed": false
   }
  },
  {
   "cell_type": "code",
   "execution_count": null,
   "outputs": [],
   "source": [
    "fig_pie = px.pie(data, values='Capacity', names='Confederation')\n",
    "fig_pie.update_layout(width=None, height=700)\n",
    "fig_pie.update_xaxes(tickangle=315)\n",
    "fig_pie.update_traces(marker_line_color='black', marker_line_width=2)\n",
    "fig_pie.update_layout(title='Соотношение вместительности стадионов футбольных ассоциаций', title_font_size=20, title_x=0.5)\n",
    "fig_pie.update_xaxes(tickfont_size=14)\n",
    "fig_pie.update_xaxes(gridwidth=2, gridcolor='ivory')\n",
    "fig_pie.update_layout(margin=dict(l=0, r=0, b=0, t=40))\n",
    "fig_pie.show()"
   ],
   "metadata": {
    "collapsed": false
   }
  },
  {
   "cell_type": "code",
   "execution_count": null,
   "outputs": [],
   "source": [
    "x = data.Confederation\n",
    "y = data.Capacity\n",
    "plt.figure(figsize=(12, 8), dpi=200)\n",
    "params = {'lines.marker': '.',\n",
    "          'lines.markerfacecolor': 'white',\n",
    "          'lines.markeredgecolor': 'black'}\n",
    "plt.rcParams.update(params)\n",
    "plt.title('Общая вместительность стадионов ассоциаций')\n",
    "plt.xlabel('Футбольная ассоциация')\n",
    "plt.ylabel('Вместительнось')\n",
    "plt.plot(x, y, marker='o', color='crimson', linestyle='')\n",
    "plt.grid(linewidth=2, color='mistyrose')\n",
    "plt.show()"
   ],
   "metadata": {
    "collapsed": false
   }
  },
  {
   "cell_type": "code",
   "execution_count": null,
   "outputs": [],
   "source": [
    "from sklearn.manifold import TSNE\n",
    "from sklearn import preprocessing\n",
    "import seaborn as sns\n",
    "import matplotlib.pyplot as plt\n",
    "from umap import umap_\n"
   ],
   "metadata": {
    "collapsed": false
   }
  },
  {
   "cell_type": "code",
   "execution_count": 52,
   "outputs": [],
   "source": [
    "data = pd.read_csv('Football Stadiums.csv', encoding_errors='ignore')\n",
    "df = data.drop(['Confederation', 'IOC'], axis=1).copy()"
   ],
   "metadata": {
    "collapsed": false,
    "ExecuteTime": {
     "end_time": "2023-09-26T12:58:08.814499Z",
     "start_time": "2023-09-26T12:58:08.701652Z"
    }
   }
  },
  {
   "cell_type": "code",
   "execution_count": null,
   "outputs": [],
   "source": [
    "for i in df:\n",
    "    df[f'{i}'] = pd.factorize(df[f'{i}'])[0]\n",
    "scaler = preprocessing.MinMaxScaler()\n",
    "df = pd.DataFrame(scaler.fit_transform(df), columns=df.columns)\n",
    "sc = preprocessing.MinMaxScaler()\n",
    "df"
   ],
   "metadata": {
    "collapsed": false
   }
  },
  {
   "cell_type": "code",
   "execution_count": 54,
   "outputs": [],
   "source": [
    "T = TSNE(n_components=2, perplexity=25, random_state=123)"
   ],
   "metadata": {
    "collapsed": false,
    "ExecuteTime": {
     "end_time": "2023-09-26T12:58:13.016167Z",
     "start_time": "2023-09-26T12:58:11.910175Z"
    }
   }
  },
  {
   "cell_type": "code",
   "execution_count": 55,
   "outputs": [],
   "source": [
    "TSNE_features = T.fit_transform(df)"
   ],
   "metadata": {
    "collapsed": false,
    "ExecuteTime": {
     "end_time": "2023-09-26T12:58:16.759287Z",
     "start_time": "2023-09-26T12:58:12.567767Z"
    }
   }
  },
  {
   "cell_type": "code",
   "execution_count": null,
   "outputs": [],
   "source": [
    "TSNE_features[1:4,:]"
   ],
   "metadata": {
    "collapsed": false
   }
  },
  {
   "cell_type": "code",
   "execution_count": 57,
   "outputs": [],
   "source": [
    "DATA = df.copy()\n",
    "DATA['x'] = TSNE_features[:,0]\n",
    "DATA['y'] = TSNE_features[:,1]"
   ],
   "metadata": {
    "collapsed": false,
    "ExecuteTime": {
     "end_time": "2023-09-26T12:58:16.767799Z",
     "start_time": "2023-09-26T12:58:16.763700Z"
    }
   }
  },
  {
   "cell_type": "code",
   "execution_count": null,
   "outputs": [],
   "source": [
    "fig = plt.figure()\n",
    "sns.scatterplot(x='x',y='y',hue=data['Confederation'], data=DATA, palette='bright')\n",
    "plt.show()"
   ],
   "metadata": {
    "collapsed": false
   }
  },
  {
   "cell_type": "code",
   "execution_count": null,
   "outputs": [],
   "source": [
    "T = TSNE(n_components=2, perplexity=5, random_state=123)\n",
    "TSNE_features = T.fit_transform(df)\n",
    "TSNE_features[1:4,:]"
   ],
   "metadata": {
    "collapsed": false
   }
  },
  {
   "cell_type": "code",
   "execution_count": 61,
   "outputs": [],
   "source": [
    "DATA = df.copy()\n",
    "DATA['x'] = TSNE_features[:,0]\n",
    "DATA['y'] = TSNE_features[:,1]"
   ],
   "metadata": {
    "collapsed": false,
    "ExecuteTime": {
     "end_time": "2023-09-26T13:01:52.736292Z",
     "start_time": "2023-09-26T13:01:52.694053Z"
    }
   }
  },
  {
   "cell_type": "code",
   "execution_count": null,
   "outputs": [],
   "source": [
    "fig = plt.figure()\n",
    "sns.scatterplot(x='x',y='y',hue=data['Confederation'], data=DATA, palette='bright')\n",
    "plt.show()"
   ],
   "metadata": {
    "collapsed": false
   }
  },
  {
   "cell_type": "code",
   "execution_count": null,
   "outputs": [],
   "source": [
    "T = TSNE(n_components=2, perplexity=50, random_state=123)\n",
    "TSNE_features = T.fit_transform(df)\n",
    "TSNE_features[1:4,:]"
   ],
   "metadata": {
    "collapsed": false
   }
  },
  {
   "cell_type": "code",
   "execution_count": 67,
   "outputs": [],
   "source": [
    "DATA = df.copy()\n",
    "DATA['x'] = TSNE_features[:,0]\n",
    "DATA['y'] = TSNE_features[:,1]"
   ],
   "metadata": {
    "collapsed": false,
    "ExecuteTime": {
     "end_time": "2023-09-26T13:03:47.748586Z",
     "start_time": "2023-09-26T13:03:47.716126Z"
    }
   }
  },
  {
   "cell_type": "code",
   "execution_count": null,
   "outputs": [],
   "source": [
    "fig = plt.figure()\n",
    "sns.scatterplot(x='x',y='y',hue=data['Confederation'], data=DATA, palette='bright')\n",
    "plt.show()"
   ],
   "metadata": {
    "collapsed": false
   }
  },
  {
   "cell_type": "code",
   "execution_count": 69,
   "outputs": [],
   "source": [
    "data = pd.read_csv('Football Stadiums.csv', encoding_errors='ignore')\n",
    "df = data.drop(['Confederation', 'IOC'], axis=1)"
   ],
   "metadata": {
    "collapsed": false,
    "ExecuteTime": {
     "end_time": "2023-09-26T13:06:08.437680Z",
     "start_time": "2023-09-26T13:06:08.350255Z"
    }
   }
  },
  {
   "cell_type": "code",
   "execution_count": null,
   "outputs": [],
   "source": [
    "for i in df:\n",
    "    df[f'{i}'] = pd.factorize(df[f'{i}'])[0]\n",
    "scaler = preprocessing.MinMaxScaler()\n",
    "df = pd.DataFrame(scaler.fit_transform(df), columns=df.columns)\n",
    "sc = preprocessing.MinMaxScaler()\n",
    "df"
   ],
   "metadata": {
    "collapsed": false
   }
  },
  {
   "cell_type": "code",
   "execution_count": 71,
   "outputs": [],
   "source": [
    "n_n = (5, 25, 50)\n",
    "m_d = (0.1, 0.6)"
   ],
   "metadata": {
    "collapsed": false,
    "ExecuteTime": {
     "end_time": "2023-09-26T13:10:33.472360Z",
     "start_time": "2023-09-26T13:10:33.110057Z"
    }
   }
  },
  {
   "cell_type": "code",
   "execution_count": null,
   "outputs": [],
   "source": [
    "um = dict()\n",
    "for i in range(len(n_n)):\n",
    "    for j in range(len(m_d)):\n",
    "        um[(n_n[i], m_d[j])] = (umap.UMAP(n_neighbors=n_n[i], min_dist=m_d[j], random_state=123).fit_transform(DATA))"
   ],
   "metadata": {
    "collapsed": false
   }
  },
  {
   "cell_type": "code",
   "execution_count": null,
   "outputs": [],
   "source": [],
   "metadata": {
    "collapsed": false
   }
  }
 ],
 "metadata": {
  "kernelspec": {
   "display_name": "Python 3",
   "language": "python",
   "name": "python3"
  },
  "language_info": {
   "codemirror_mode": {
    "name": "ipython",
    "version": 2
   },
   "file_extension": ".py",
   "mimetype": "text/x-python",
   "name": "python",
   "nbconvert_exporter": "python",
   "pygments_lexer": "ipython2",
   "version": "2.7.6"
  }
 },
 "nbformat": 4,
 "nbformat_minor": 0
}
